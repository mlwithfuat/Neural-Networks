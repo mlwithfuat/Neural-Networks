{
 "cells": [
  {
   "cell_type": "code",
   "execution_count": 1,
   "id": "f779516f-63b4-4296-ab66-fb29858f63e3",
   "metadata": {},
   "outputs": [],
   "source": [
    "import pandas as pd\n",
    "import numpy as np\n",
    "import matplotlib as plt\n",
    "%matplotlib inline\n",
    "\n",
    "import math\n",
    "import random\n",
    "from graphviz import Digraph"
   ]
  },
  {
   "cell_type": "code",
   "execution_count": 2,
   "id": "94691f8e-862b-4233-bf15-195edb524d3c",
   "metadata": {},
   "outputs": [],
   "source": [
    "class Value:\n",
    "    def __init__(self, data, _children = (), _op='', label=''):\n",
    "        self.data = data\n",
    "        self.grad = 0.0\n",
    "        self._backward = lambda: None\n",
    "        self._prev = set(_children)\n",
    "        self._op = _op\n",
    "        self.label = label\n",
    "\n",
    "    def __repr__(self):\n",
    "        return f\"Value(data={self.data})\"\n",
    "\n",
    "    def __add__(self, other):\n",
    "        other = other if isinstance(other, Value) else Value(other)\n",
    "        out = Value(self.data + other.data, (self, other), '+')\n",
    "        def _backward():\n",
    "            self.grad += 1.0 * out.grad\n",
    "            other.grad += 1.0 * out.grad\n",
    "        out._backward = _backward\n",
    "        return out\n",
    "    def __radd__(self, other):\n",
    "        return self + other\n",
    "    \n",
    "    \n",
    "    def __mul__(self, other):\n",
    "        other = other if isinstance(other, Value) else Value(other)\n",
    "        out = Value(self.data * other.data, (self, other), '*')\n",
    "        def _backward():\n",
    "            self.grad += other.data * out.grad\n",
    "            other.grad += self.data * out.grad\n",
    "        out._backward = _backward\n",
    "        return out\n",
    "\n",
    "    def __pow__(self, other):\n",
    "        assert isinstance(other, (int, float)), \"only supporting int/float powers for now\"\n",
    "        out = Value(self.data**other, (self,), f'**{other}')\n",
    "\n",
    "        def _backward():\n",
    "            self.grad +=other * (self.data ** (other - 1)) * out.grad\n",
    "\n",
    "        out._backward = _backward\n",
    "        return out\n",
    "            \n",
    "    def __rmul__(self, other):\n",
    "        return self * other\n",
    "    def tanh(self):\n",
    "        x= self.data\n",
    "        t = (math.exp(2*x)-1)/(math.exp(2*x) +1)\n",
    "        out = Value(t, (self,), 'tanh')\n",
    "\n",
    "        def _backward():\n",
    "            self.grad = (1 - t**2) * out.grad\n",
    "        out._backward = _backward\n",
    "        return out\n",
    "\n",
    "\n",
    "    def __neg__(self):\n",
    "        return self * -1\n",
    "\n",
    "    def __sub__(self, other):\n",
    "        # Diğer `Value` nesnesi veya sayı ile çıkarma işlemi\n",
    "        if isinstance(other, Value):\n",
    "            out = Value(self.data - other.data, (self, other), '-')\n",
    "        else:\n",
    "            out = Value(self.data - other, (self,), '-')\n",
    "        \n",
    "        def _backward():\n",
    "            self.grad += out.grad\n",
    "            if isinstance(other, Value):\n",
    "                other.grad += -out.grad\n",
    "        \n",
    "        out._backward = _backward\n",
    "        return out\n",
    "\n",
    "    def exp(self):\n",
    "        x = self.data\n",
    "        out = Value(math.exp(x), 'exp')\n",
    "\n",
    "        def _backward():\n",
    "            self.grad += out.data * out.grad\n",
    "        out._backward = _backward\n",
    "\n",
    "    def __truediv__(self, other):\n",
    "        return self * other**-1\n",
    "    def backward(self):\n",
    "        \n",
    "        topo = []\n",
    "        visited = set()\n",
    "        def build_topo(v):\n",
    "            if v not in visited:\n",
    "                visited.add(v)\n",
    "                for child in v._prev:\n",
    "                    build_topo(child)\n",
    "                topo.append(v)\n",
    "        build_topo(self)\n",
    "        self.grad = 1.0\n",
    "        for node in reversed(topo):\n",
    "            node._backward()\n",
    "\n",
    "\n",
    "        "
   ]
  },
  {
   "cell_type": "code",
   "execution_count": 3,
   "id": "af308cb4-10c3-4420-8ba1-9bc1490afc9c",
   "metadata": {},
   "outputs": [
    {
     "data": {
      "text/plain": [
       "Value(data=1.0)"
      ]
     },
     "execution_count": 3,
     "metadata": {},
     "output_type": "execute_result"
    }
   ],
   "source": [
    "a = Value(2.0)\n",
    "a-1\n"
   ]
  },
  {
   "cell_type": "code",
   "execution_count": 4,
   "id": "63ea9a3c-4887-404d-8233-2af73d1d3b1b",
   "metadata": {},
   "outputs": [],
   "source": [
    "def trace(root):\n",
    "    # builds a set of all nodes and edges in a graph\n",
    "    nodes, edges = set(), set()\n",
    "    def build(v):\n",
    "        if v not in nodes:\n",
    "            nodes.add(v)\n",
    "            for child in v._prev:\n",
    "                edges.add((child,v))\n",
    "                build(child)\n",
    "    build(root)\n",
    "    return nodes, edges\n",
    "\n",
    "def draw_dot(root):\n",
    "    dot = Digraph(format='svg',graph_attr={'rankdir':'LR'}) # LR: left to right\n",
    "\n",
    "    nodes, edges = trace(root)\n",
    "    for n in nodes:\n",
    "        uid = str(id(n))\n",
    "        #for any value in the graph, create a rectangular('record') node for it\n",
    "        dot.node(name = uid, label = \"{%s | data %.4f | grad %.4f}\" % (n.label, n.data, n.grad), shape='record')\n",
    "        if n._op:\n",
    "            #if this value is a result of some operation, create an op node for it\n",
    "            dot.node(name = uid + n._op, label = n._op)\n",
    "            #and connect this node to it\n",
    "            dot.edge(uid + n._op, uid)\n",
    "\n",
    "    for n1, n2 in edges:\n",
    "        #connect n1 to the op node pf n2\n",
    "        dot.edge(str(id(n1)), str(id(n2)) +n2._op)\n",
    "\n",
    "    return dot"
   ]
  },
  {
   "cell_type": "code",
   "execution_count": 5,
   "id": "93645478-cd95-4225-b3d8-45252aa69263",
   "metadata": {},
   "outputs": [],
   "source": [
    "# inputs x1, x2\n",
    "x1 = Value(2.0, label='x1')\n",
    "x2 = Value(0.0, label='x2')\n",
    "#weights w1, w2\n",
    "w1 = Value(-3.0, label='w1')\n",
    "w2 = Value(1.0, label='w2')\n",
    "# bias of the neuron\n",
    "b = Value(6.8813735870294653, label='b')\n",
    "x1w1 = x1*w1; x1w1.label = 'x1*w1'\n",
    "x2w2 = x2*w2; x2w2.label = 'x2*w2'\n",
    "x1w1x2w2 = x1w1 + x2w2; x1w1x2w2.label = 'x1w1 + x2w2'\n",
    "n = x1w1x2w2 + b; n.label = 'n' \n",
    "o= n.tanh(); o.label = 'o'\n"
   ]
  },
  {
   "cell_type": "code",
   "execution_count": 6,
   "id": "41a347ba-d187-48dc-8d33-ab8894dfae29",
   "metadata": {},
   "outputs": [
    {
     "data": {
      "image/svg+xml": [
       "<?xml version=\"1.0\" encoding=\"UTF-8\" standalone=\"no\"?>\n",
       "<!DOCTYPE svg PUBLIC \"-//W3C//DTD SVG 1.1//EN\"\n",
       " \"http://www.w3.org/Graphics/SVG/1.1/DTD/svg11.dtd\">\n",
       "<!-- Generated by graphviz version 12.2.1 (20241206.2353)\n",
       " -->\n",
       "<!-- Pages: 1 -->\n",
       "<svg width=\"1553pt\" height=\"210pt\"\n",
       " viewBox=\"0.00 0.00 1553.00 210.00\" xmlns=\"http://www.w3.org/2000/svg\" xmlns:xlink=\"http://www.w3.org/1999/xlink\">\n",
       "<g id=\"graph0\" class=\"graph\" transform=\"scale(1 1) rotate(0) translate(4 206)\">\n",
       "<polygon fill=\"white\" stroke=\"none\" points=\"-4,4 -4,-206 1549,-206 1549,4 -4,4\"/>\n",
       "<!-- 2399790574640 -->\n",
       "<g id=\"node1\" class=\"node\">\n",
       "<title>2399790574640</title>\n",
       "<polygon fill=\"none\" stroke=\"black\" points=\"324,-55.5 324,-91.5 542.25,-91.5 542.25,-55.5 324,-55.5\"/>\n",
       "<text text-anchor=\"middle\" x=\"350.38\" y=\"-68.7\" font-family=\"Times New Roman,serif\" font-size=\"14.00\">x1*w1</text>\n",
       "<polyline fill=\"none\" stroke=\"black\" points=\"376.75,-56 376.75,-91.5\"/>\n",
       "<text text-anchor=\"middle\" x=\"418.88\" y=\"-68.7\" font-family=\"Times New Roman,serif\" font-size=\"14.00\">data &#45;6.0000</text>\n",
       "<polyline fill=\"none\" stroke=\"black\" points=\"461,-56 461,-91.5\"/>\n",
       "<text text-anchor=\"middle\" x=\"501.62\" y=\"-68.7\" font-family=\"Times New Roman,serif\" font-size=\"14.00\">grad 0.0000</text>\n",
       "</g>\n",
       "<!-- 2399790574736+ -->\n",
       "<g id=\"node5\" class=\"node\">\n",
       "<title>2399790574736+</title>\n",
       "<ellipse fill=\"none\" stroke=\"black\" cx=\"605.25\" cy=\"-100.5\" rx=\"27\" ry=\"18\"/>\n",
       "<text text-anchor=\"middle\" x=\"605.25\" y=\"-95.45\" font-family=\"Times New Roman,serif\" font-size=\"14.00\">+</text>\n",
       "</g>\n",
       "<!-- 2399790574640&#45;&gt;2399790574736+ -->\n",
       "<g id=\"edge13\" class=\"edge\">\n",
       "<title>2399790574640&#45;&gt;2399790574736+</title>\n",
       "<path fill=\"none\" stroke=\"black\" d=\"M542.35,-90.68C551.12,-92.07 559.54,-93.4 567.19,-94.62\"/>\n",
       "<polygon fill=\"black\" stroke=\"black\" points=\"566.59,-98.07 577.02,-96.18 567.69,-91.15 566.59,-98.07\"/>\n",
       "</g>\n",
       "<!-- 2399790574640* -->\n",
       "<g id=\"node2\" class=\"node\">\n",
       "<title>2399790574640*</title>\n",
       "<ellipse fill=\"none\" stroke=\"black\" cx=\"261\" cy=\"-73.5\" rx=\"27\" ry=\"18\"/>\n",
       "<text text-anchor=\"middle\" x=\"261\" y=\"-68.45\" font-family=\"Times New Roman,serif\" font-size=\"14.00\">*</text>\n",
       "</g>\n",
       "<!-- 2399790574640*&#45;&gt;2399790574640 -->\n",
       "<g id=\"edge1\" class=\"edge\">\n",
       "<title>2399790574640*&#45;&gt;2399790574640</title>\n",
       "<path fill=\"none\" stroke=\"black\" d=\"M288.21,-73.5C295.29,-73.5 303.43,-73.5 312.17,-73.5\"/>\n",
       "<polygon fill=\"black\" stroke=\"black\" points=\"312.01,-77 322.01,-73.5 312.01,-70 312.01,-77\"/>\n",
       "</g>\n",
       "<!-- 2399790574160 -->\n",
       "<g id=\"node3\" class=\"node\">\n",
       "<title>2399790574160</title>\n",
       "<polygon fill=\"none\" stroke=\"black\" points=\"705,-137.5 705,-173.5 888.75,-173.5 888.75,-137.5 705,-137.5\"/>\n",
       "<text text-anchor=\"middle\" x=\"716.38\" y=\"-150.7\" font-family=\"Times New Roman,serif\" font-size=\"14.00\">b</text>\n",
       "<polyline fill=\"none\" stroke=\"black\" points=\"727.75,-138 727.75,-173.5\"/>\n",
       "<text text-anchor=\"middle\" x=\"767.62\" y=\"-150.7\" font-family=\"Times New Roman,serif\" font-size=\"14.00\">data 6.8814</text>\n",
       "<polyline fill=\"none\" stroke=\"black\" points=\"807.5,-138 807.5,-173.5\"/>\n",
       "<text text-anchor=\"middle\" x=\"848.12\" y=\"-150.7\" font-family=\"Times New Roman,serif\" font-size=\"14.00\">grad 0.0000</text>\n",
       "</g>\n",
       "<!-- 2399790575072+ -->\n",
       "<g id=\"node14\" class=\"node\">\n",
       "<title>2399790575072+</title>\n",
       "<ellipse fill=\"none\" stroke=\"black\" cx=\"988.5\" cy=\"-127.5\" rx=\"27\" ry=\"18\"/>\n",
       "<text text-anchor=\"middle\" x=\"988.5\" y=\"-122.45\" font-family=\"Times New Roman,serif\" font-size=\"14.00\">+</text>\n",
       "</g>\n",
       "<!-- 2399790574160&#45;&gt;2399790575072+ -->\n",
       "<g id=\"edge11\" class=\"edge\">\n",
       "<title>2399790574160&#45;&gt;2399790575072+</title>\n",
       "<path fill=\"none\" stroke=\"black\" d=\"M889.08,-142.03C910.92,-138.81 933.02,-135.54 950.73,-132.93\"/>\n",
       "<polygon fill=\"black\" stroke=\"black\" points=\"951.08,-136.42 960.46,-131.49 950.06,-129.49 951.08,-136.42\"/>\n",
       "</g>\n",
       "<!-- 2399790574736 -->\n",
       "<g id=\"node4\" class=\"node\">\n",
       "<title>2399790574736</title>\n",
       "<polygon fill=\"none\" stroke=\"black\" points=\"668.25,-82.5 668.25,-118.5 925.5,-118.5 925.5,-82.5 668.25,-82.5\"/>\n",
       "<text text-anchor=\"middle\" x=\"714.12\" y=\"-95.7\" font-family=\"Times New Roman,serif\" font-size=\"14.00\">x1w1 + x2w2</text>\n",
       "<polyline fill=\"none\" stroke=\"black\" points=\"760,-83 760,-118.5\"/>\n",
       "<text text-anchor=\"middle\" x=\"802.12\" y=\"-95.7\" font-family=\"Times New Roman,serif\" font-size=\"14.00\">data &#45;6.0000</text>\n",
       "<polyline fill=\"none\" stroke=\"black\" points=\"844.25,-83 844.25,-118.5\"/>\n",
       "<text text-anchor=\"middle\" x=\"884.88\" y=\"-95.7\" font-family=\"Times New Roman,serif\" font-size=\"14.00\">grad 0.0000</text>\n",
       "</g>\n",
       "<!-- 2399790574736&#45;&gt;2399790575072+ -->\n",
       "<g id=\"edge12\" class=\"edge\">\n",
       "<title>2399790574736&#45;&gt;2399790575072+</title>\n",
       "<path fill=\"none\" stroke=\"black\" d=\"M925.93,-118.73C934.56,-119.96 942.77,-121.13 950.21,-122.19\"/>\n",
       "<polygon fill=\"black\" stroke=\"black\" points=\"949.71,-125.65 960.1,-123.6 950.69,-118.72 949.71,-125.65\"/>\n",
       "</g>\n",
       "<!-- 2399790574736+&#45;&gt;2399790574736 -->\n",
       "<g id=\"edge2\" class=\"edge\">\n",
       "<title>2399790574736+&#45;&gt;2399790574736</title>\n",
       "<path fill=\"none\" stroke=\"black\" d=\"M632.62,-100.5C639.63,-100.5 647.71,-100.5 656.45,-100.5\"/>\n",
       "<polygon fill=\"black\" stroke=\"black\" points=\"656.32,-104 666.32,-100.5 656.32,-97 656.32,-104\"/>\n",
       "</g>\n",
       "<!-- 2399790575840 -->\n",
       "<g id=\"node6\" class=\"node\">\n",
       "<title>2399790575840</title>\n",
       "<polygon fill=\"none\" stroke=\"black\" points=\"326.25,-110.5 326.25,-146.5 540,-146.5 540,-110.5 326.25,-110.5\"/>\n",
       "<text text-anchor=\"middle\" x=\"352.62\" y=\"-123.7\" font-family=\"Times New Roman,serif\" font-size=\"14.00\">x2*w2</text>\n",
       "<polyline fill=\"none\" stroke=\"black\" points=\"379,-111 379,-146.5\"/>\n",
       "<text text-anchor=\"middle\" x=\"418.88\" y=\"-123.7\" font-family=\"Times New Roman,serif\" font-size=\"14.00\">data 0.0000</text>\n",
       "<polyline fill=\"none\" stroke=\"black\" points=\"458.75,-111 458.75,-146.5\"/>\n",
       "<text text-anchor=\"middle\" x=\"499.38\" y=\"-123.7\" font-family=\"Times New Roman,serif\" font-size=\"14.00\">grad 0.0000</text>\n",
       "</g>\n",
       "<!-- 2399790575840&#45;&gt;2399790574736+ -->\n",
       "<g id=\"edge9\" class=\"edge\">\n",
       "<title>2399790575840&#45;&gt;2399790574736+</title>\n",
       "<path fill=\"none\" stroke=\"black\" d=\"M540.42,-111.01C549.89,-109.45 559,-107.95 567.21,-106.6\"/>\n",
       "<polygon fill=\"black\" stroke=\"black\" points=\"567.75,-110.05 577.05,-104.98 566.62,-103.15 567.75,-110.05\"/>\n",
       "</g>\n",
       "<!-- 2399790575840* -->\n",
       "<g id=\"node7\" class=\"node\">\n",
       "<title>2399790575840*</title>\n",
       "<ellipse fill=\"none\" stroke=\"black\" cx=\"261\" cy=\"-128.5\" rx=\"27\" ry=\"18\"/>\n",
       "<text text-anchor=\"middle\" x=\"261\" y=\"-123.45\" font-family=\"Times New Roman,serif\" font-size=\"14.00\">*</text>\n",
       "</g>\n",
       "<!-- 2399790575840*&#45;&gt;2399790575840 -->\n",
       "<g id=\"edge3\" class=\"edge\">\n",
       "<title>2399790575840*&#45;&gt;2399790575840</title>\n",
       "<path fill=\"none\" stroke=\"black\" d=\"M288.21,-128.5C296,-128.5 305.08,-128.5 314.82,-128.5\"/>\n",
       "<polygon fill=\"black\" stroke=\"black\" points=\"314.55,-132 324.55,-128.5 314.55,-125 314.55,-132\"/>\n",
       "</g>\n",
       "<!-- 2399790575408 -->\n",
       "<g id=\"node8\" class=\"node\">\n",
       "<title>2399790575408</title>\n",
       "<polygon fill=\"none\" stroke=\"black\" points=\"0,-55.5 0,-91.5 198,-91.5 198,-55.5 0,-55.5\"/>\n",
       "<text text-anchor=\"middle\" x=\"16.25\" y=\"-68.7\" font-family=\"Times New Roman,serif\" font-size=\"14.00\">w1</text>\n",
       "<polyline fill=\"none\" stroke=\"black\" points=\"32.5,-56 32.5,-91.5\"/>\n",
       "<text text-anchor=\"middle\" x=\"74.62\" y=\"-68.7\" font-family=\"Times New Roman,serif\" font-size=\"14.00\">data &#45;3.0000</text>\n",
       "<polyline fill=\"none\" stroke=\"black\" points=\"116.75,-56 116.75,-91.5\"/>\n",
       "<text text-anchor=\"middle\" x=\"157.38\" y=\"-68.7\" font-family=\"Times New Roman,serif\" font-size=\"14.00\">grad 0.0000</text>\n",
       "</g>\n",
       "<!-- 2399790575408&#45;&gt;2399790574640* -->\n",
       "<g id=\"edge7\" class=\"edge\">\n",
       "<title>2399790575408&#45;&gt;2399790574640*</title>\n",
       "<path fill=\"none\" stroke=\"black\" d=\"M198.14,-73.5C206.61,-73.5 214.8,-73.5 222.29,-73.5\"/>\n",
       "<polygon fill=\"black\" stroke=\"black\" points=\"222.29,-77 232.29,-73.5 222.29,-70 222.29,-77\"/>\n",
       "</g>\n",
       "<!-- 2399790477632 -->\n",
       "<g id=\"node9\" class=\"node\">\n",
       "<title>2399790477632</title>\n",
       "<polygon fill=\"none\" stroke=\"black\" points=\"3.75,-165.5 3.75,-201.5 194.25,-201.5 194.25,-165.5 3.75,-165.5\"/>\n",
       "<text text-anchor=\"middle\" x=\"18.5\" y=\"-178.7\" font-family=\"Times New Roman,serif\" font-size=\"14.00\">x2</text>\n",
       "<polyline fill=\"none\" stroke=\"black\" points=\"33.25,-166 33.25,-201.5\"/>\n",
       "<text text-anchor=\"middle\" x=\"73.12\" y=\"-178.7\" font-family=\"Times New Roman,serif\" font-size=\"14.00\">data 0.0000</text>\n",
       "<polyline fill=\"none\" stroke=\"black\" points=\"113,-166 113,-201.5\"/>\n",
       "<text text-anchor=\"middle\" x=\"153.62\" y=\"-178.7\" font-family=\"Times New Roman,serif\" font-size=\"14.00\">grad 0.0000</text>\n",
       "</g>\n",
       "<!-- 2399790477632&#45;&gt;2399790575840* -->\n",
       "<g id=\"edge10\" class=\"edge\">\n",
       "<title>2399790477632&#45;&gt;2399790575840*</title>\n",
       "<path fill=\"none\" stroke=\"black\" d=\"M172.12,-165.01C180.9,-162.35 189.7,-159.5 198,-156.5 208.09,-152.86 218.82,-148.27 228.47,-143.88\"/>\n",
       "<polygon fill=\"black\" stroke=\"black\" points=\"229.86,-147.09 237.45,-139.69 226.9,-140.75 229.86,-147.09\"/>\n",
       "</g>\n",
       "<!-- 2399790574496 -->\n",
       "<g id=\"node10\" class=\"node\">\n",
       "<title>2399790574496</title>\n",
       "<polygon fill=\"none\" stroke=\"black\" points=\"1361.25,-109.5 1361.25,-145.5 1545,-145.5 1545,-109.5 1361.25,-109.5\"/>\n",
       "<text text-anchor=\"middle\" x=\"1372.62\" y=\"-122.7\" font-family=\"Times New Roman,serif\" font-size=\"14.00\">o</text>\n",
       "<polyline fill=\"none\" stroke=\"black\" points=\"1384,-110 1384,-145.5\"/>\n",
       "<text text-anchor=\"middle\" x=\"1423.88\" y=\"-122.7\" font-family=\"Times New Roman,serif\" font-size=\"14.00\">data 0.7071</text>\n",
       "<polyline fill=\"none\" stroke=\"black\" points=\"1463.75,-110 1463.75,-145.5\"/>\n",
       "<text text-anchor=\"middle\" x=\"1504.38\" y=\"-122.7\" font-family=\"Times New Roman,serif\" font-size=\"14.00\">grad 0.0000</text>\n",
       "</g>\n",
       "<!-- 2399790574496tanh -->\n",
       "<g id=\"node11\" class=\"node\">\n",
       "<title>2399790574496tanh</title>\n",
       "<ellipse fill=\"none\" stroke=\"black\" cx=\"1298.25\" cy=\"-127.5\" rx=\"27\" ry=\"18\"/>\n",
       "<text text-anchor=\"middle\" x=\"1298.25\" y=\"-122.45\" font-family=\"Times New Roman,serif\" font-size=\"14.00\">tanh</text>\n",
       "</g>\n",
       "<!-- 2399790574496tanh&#45;&gt;2399790574496 -->\n",
       "<g id=\"edge4\" class=\"edge\">\n",
       "<title>2399790574496tanh&#45;&gt;2399790574496</title>\n",
       "<path fill=\"none\" stroke=\"black\" d=\"M1325.53,-127.5C1332.67,-127.5 1340.86,-127.5 1349.57,-127.5\"/>\n",
       "<polygon fill=\"black\" stroke=\"black\" points=\"1349.31,-131 1359.31,-127.5 1349.31,-124 1349.31,-131\"/>\n",
       "</g>\n",
       "<!-- 2399790480800 -->\n",
       "<g id=\"node12\" class=\"node\">\n",
       "<title>2399790480800</title>\n",
       "<polygon fill=\"none\" stroke=\"black\" points=\"3.75,-0.5 3.75,-36.5 194.25,-36.5 194.25,-0.5 3.75,-0.5\"/>\n",
       "<text text-anchor=\"middle\" x=\"18.5\" y=\"-13.7\" font-family=\"Times New Roman,serif\" font-size=\"14.00\">x1</text>\n",
       "<polyline fill=\"none\" stroke=\"black\" points=\"33.25,-1 33.25,-36.5\"/>\n",
       "<text text-anchor=\"middle\" x=\"73.12\" y=\"-13.7\" font-family=\"Times New Roman,serif\" font-size=\"14.00\">data 2.0000</text>\n",
       "<polyline fill=\"none\" stroke=\"black\" points=\"113,-1 113,-36.5\"/>\n",
       "<text text-anchor=\"middle\" x=\"153.62\" y=\"-13.7\" font-family=\"Times New Roman,serif\" font-size=\"14.00\">grad 0.0000</text>\n",
       "</g>\n",
       "<!-- 2399790480800&#45;&gt;2399790574640* -->\n",
       "<g id=\"edge8\" class=\"edge\">\n",
       "<title>2399790480800&#45;&gt;2399790574640*</title>\n",
       "<path fill=\"none\" stroke=\"black\" d=\"M168.91,-36.94C178.74,-39.93 188.67,-43.15 198,-46.5 207.96,-50.07 218.58,-54.47 228.18,-58.68\"/>\n",
       "<polygon fill=\"black\" stroke=\"black\" points=\"226.54,-61.78 237.1,-62.67 229.4,-55.39 226.54,-61.78\"/>\n",
       "</g>\n",
       "<!-- 2399790575072 -->\n",
       "<g id=\"node13\" class=\"node\">\n",
       "<title>2399790575072</title>\n",
       "<polygon fill=\"none\" stroke=\"black\" points=\"1051.5,-109.5 1051.5,-145.5 1235.25,-145.5 1235.25,-109.5 1051.5,-109.5\"/>\n",
       "<text text-anchor=\"middle\" x=\"1062.88\" y=\"-122.7\" font-family=\"Times New Roman,serif\" font-size=\"14.00\">n</text>\n",
       "<polyline fill=\"none\" stroke=\"black\" points=\"1074.25,-110 1074.25,-145.5\"/>\n",
       "<text text-anchor=\"middle\" x=\"1114.12\" y=\"-122.7\" font-family=\"Times New Roman,serif\" font-size=\"14.00\">data 0.8814</text>\n",
       "<polyline fill=\"none\" stroke=\"black\" points=\"1154,-110 1154,-145.5\"/>\n",
       "<text text-anchor=\"middle\" x=\"1194.62\" y=\"-122.7\" font-family=\"Times New Roman,serif\" font-size=\"14.00\">grad 0.0000</text>\n",
       "</g>\n",
       "<!-- 2399790575072&#45;&gt;2399790574496tanh -->\n",
       "<g id=\"edge14\" class=\"edge\">\n",
       "<title>2399790575072&#45;&gt;2399790574496tanh</title>\n",
       "<path fill=\"none\" stroke=\"black\" d=\"M1235.51,-127.5C1243.89,-127.5 1252.02,-127.5 1259.48,-127.5\"/>\n",
       "<polygon fill=\"black\" stroke=\"black\" points=\"1259.45,-131 1269.45,-127.5 1259.45,-124 1259.45,-131\"/>\n",
       "</g>\n",
       "<!-- 2399790575072+&#45;&gt;2399790575072 -->\n",
       "<g id=\"edge5\" class=\"edge\">\n",
       "<title>2399790575072+&#45;&gt;2399790575072</title>\n",
       "<path fill=\"none\" stroke=\"black\" d=\"M1015.78,-127.5C1022.92,-127.5 1031.11,-127.5 1039.82,-127.5\"/>\n",
       "<polygon fill=\"black\" stroke=\"black\" points=\"1039.56,-131 1049.56,-127.5 1039.56,-124 1039.56,-131\"/>\n",
       "</g>\n",
       "<!-- 2399790574064 -->\n",
       "<g id=\"node15\" class=\"node\">\n",
       "<title>2399790574064</title>\n",
       "<polygon fill=\"none\" stroke=\"black\" points=\"2.25,-110.5 2.25,-146.5 195.75,-146.5 195.75,-110.5 2.25,-110.5\"/>\n",
       "<text text-anchor=\"middle\" x=\"18.5\" y=\"-123.7\" font-family=\"Times New Roman,serif\" font-size=\"14.00\">w2</text>\n",
       "<polyline fill=\"none\" stroke=\"black\" points=\"34.75,-111 34.75,-146.5\"/>\n",
       "<text text-anchor=\"middle\" x=\"74.62\" y=\"-123.7\" font-family=\"Times New Roman,serif\" font-size=\"14.00\">data 1.0000</text>\n",
       "<polyline fill=\"none\" stroke=\"black\" points=\"114.5,-111 114.5,-146.5\"/>\n",
       "<text text-anchor=\"middle\" x=\"155.12\" y=\"-123.7\" font-family=\"Times New Roman,serif\" font-size=\"14.00\">grad 0.0000</text>\n",
       "</g>\n",
       "<!-- 2399790574064&#45;&gt;2399790575840* -->\n",
       "<g id=\"edge6\" class=\"edge\">\n",
       "<title>2399790574064&#45;&gt;2399790575840*</title>\n",
       "<path fill=\"none\" stroke=\"black\" d=\"M195.84,-128.5C205.14,-128.5 214.15,-128.5 222.32,-128.5\"/>\n",
       "<polygon fill=\"black\" stroke=\"black\" points=\"222.13,-132 232.13,-128.5 222.13,-125 222.13,-132\"/>\n",
       "</g>\n",
       "</g>\n",
       "</svg>\n"
      ],
      "text/plain": [
       "<graphviz.graphs.Digraph at 0x22ebea8be60>"
      ]
     },
     "execution_count": 6,
     "metadata": {},
     "output_type": "execute_result"
    }
   ],
   "source": [
    "draw_dot(o)"
   ]
  },
  {
   "cell_type": "code",
   "execution_count": 7,
   "id": "d4584ef4-d832-492b-9e8a-bb18f129aa34",
   "metadata": {},
   "outputs": [],
   "source": [
    "o.backward()"
   ]
  },
  {
   "cell_type": "code",
   "execution_count": 8,
   "id": "58548864-3de3-4372-95e7-46761d362d56",
   "metadata": {},
   "outputs": [
    {
     "name": "stdout",
     "output_type": "stream",
     "text": [
      "0.7071066904050358\n",
      "----\n",
      "x2 0.5000001283844369\n",
      "x1 -1.5000003851533106\n",
      "w1 1.0000002567688737\n",
      "w2 0.0\n"
     ]
    }
   ],
   "source": [
    "import torch\n",
    "\n",
    "x1 = torch.Tensor([2.0]).double()                ; x1.requires_grad = True\n",
    "x2 = torch.Tensor([0.0]).double()                ; x2.requires_grad = True\n",
    "w1 = torch.Tensor([-3.0]).double()               ; w1.requires_grad = True\n",
    "w2 = torch.Tensor([1.0]).double()                ; w2.requires_grad = True\n",
    "b = torch.Tensor([6.8813735870294653]).double()  ; b.requires_grad = True\n",
    "n = x1*w1 + x2*w2 + b\n",
    "o = torch.tanh(n)\n",
    "\n",
    "print(o.data.item())\n",
    "o.backward()\n",
    "\n",
    "print ('----')\n",
    "print ('x2', x2.grad.item())\n",
    "print ('x1', x1.grad.item())\n",
    "print ('w1', w1.grad.item())\n",
    "print ('w2', w2.grad.item())\n"
   ]
  },
  {
   "cell_type": "code",
   "execution_count": 274,
   "id": "7e86496e-984a-43da-a80e-7e474459acce",
   "metadata": {},
   "outputs": [],
   "source": [
    "class Neuron:\n",
    "\n",
    "    def __init__(self, nin):\n",
    "        self.w = [Value(random.uniform(-1,1)) for _ in range(nin)]\n",
    "        self.b = Value(random.uniform(-1,1))\n",
    "\n",
    "\n",
    "    def __call__(self, x):\n",
    "        # w*x+b\n",
    "        act = sum((wi*xi for wi, xi in zip(self.w, x)), self.b)\n",
    "        out = act.tanh()\n",
    "        return out\n",
    "\n",
    "    def parameters(self):\n",
    "        return self.w +[self.b]\n",
    "\n",
    "class Layer: \n",
    "    def __init__(self, nin, nout):\n",
    "        self.neurons = [Neuron(nin) for _ in range(nout)]\n",
    "\n",
    "    def __call__(self,x):\n",
    "        outs = [n(x) for n in self.neurons]\n",
    "        return outs\n",
    "\n",
    "    def parameters(self):\n",
    "        return [p for neuron in self.neurons for p in neuron.parameters()]\n",
    "class MLP:\n",
    "\n",
    "    def __init__(self, nin, nouts):\n",
    "        sz = [nin] + nouts\n",
    "        self.layers = [Layer(sz[i], sz[i+1]) for i in range(len(nouts))]\n",
    "\n",
    "\n",
    "    def __call__(self,x):\n",
    "        for layer in self.layers:\n",
    "            x = layer(x)\n",
    "        return x\n",
    "\n",
    "    def parameters(self):\n",
    "        return [p for layer in self.layers for p in layer.parameters()]\n",
    "\n"
   ]
  },
  {
   "cell_type": "code",
   "execution_count": null,
   "id": "1684a270-e28c-4431-9f99-d2255ed93fc0",
   "metadata": {},
   "outputs": [],
   "source": []
  },
  {
   "cell_type": "code",
   "execution_count": 275,
   "id": "a9e656da-fff6-40e0-a637-9cd4b0d9e657",
   "metadata": {},
   "outputs": [
    {
     "data": {
      "text/plain": [
       "[Value(data=-0.8785338097700004)]"
      ]
     },
     "execution_count": 275,
     "metadata": {},
     "output_type": "execute_result"
    }
   ],
   "source": [
    "x= [2.0, 3.0, -1.0]\n",
    "n = MLP(3, [4,4,1])\n",
    "n(x)"
   ]
  },
  {
   "cell_type": "code",
   "execution_count": 262,
   "id": "63b7a01c-24aa-4a5f-8b32-e55ac551b08b",
   "metadata": {},
   "outputs": [
    {
     "data": {
      "text/plain": [
       "[Value(data=0.4986137365687171),\n",
       " Value(data=-0.5289963026526427),\n",
       " Value(data=-0.3498514164972577),\n",
       " Value(data=0.5704539456735491),\n",
       " Value(data=-0.21951516805087135),\n",
       " Value(data=-0.027920894157874354),\n",
       " Value(data=0.0442286107042531),\n",
       " Value(data=-0.7950829692982406),\n",
       " Value(data=0.1174607209189702),\n",
       " Value(data=-0.8571148846343133),\n",
       " Value(data=-0.46529611929049186),\n",
       " Value(data=-0.9639517535238808),\n",
       " Value(data=-0.26875317882170946),\n",
       " Value(data=-0.2687307272319055),\n",
       " Value(data=-0.9204618882796054),\n",
       " Value(data=0.21958325233301412),\n",
       " Value(data=0.6337757074900892),\n",
       " Value(data=-0.6592274453509168),\n",
       " Value(data=-0.7074241854909946),\n",
       " Value(data=-0.26521668424523126),\n",
       " Value(data=-0.9257644551547923),\n",
       " Value(data=0.6058980717095317),\n",
       " Value(data=-0.5628003131987394),\n",
       " Value(data=0.07277084774672415),\n",
       " Value(data=-0.16597772312802994),\n",
       " Value(data=0.8999082719681384),\n",
       " Value(data=-0.6789507242673722),\n",
       " Value(data=-0.07562309244706134),\n",
       " Value(data=0.6294799665077306),\n",
       " Value(data=-0.8774957473091067),\n",
       " Value(data=0.21033859734332294),\n",
       " Value(data=0.21401275111474938),\n",
       " Value(data=-0.2868769825980386),\n",
       " Value(data=-0.7721190394825084),\n",
       " Value(data=-0.5544449045355355),\n",
       " Value(data=-0.02786349011427336),\n",
       " Value(data=-0.20620953964547972),\n",
       " Value(data=-0.8719659155558839),\n",
       " Value(data=0.5088570424465995),\n",
       " Value(data=0.11888993769070533),\n",
       " Value(data=-0.11029941364326179)]"
      ]
     },
     "execution_count": 262,
     "metadata": {},
     "output_type": "execute_result"
    }
   ],
   "source": [
    "n.parameters()"
   ]
  },
  {
   "cell_type": "code",
   "execution_count": 272,
   "id": "7646ea41-826f-421b-8457-a866311c7b69",
   "metadata": {},
   "outputs": [],
   "source": [
    "xs = [\n",
    "    [2.0, 3.0, -1.0],\n",
    "    [3.0, -1.0, 0.5],\n",
    "    [0.5, 1.0, -1.0],\n",
    "    [1.0, 1.0, -1.0]\n",
    "]\n",
    "ys = [1.0, -1.0, -1.0, 1.0]\n"
   ]
  },
  {
   "cell_type": "code",
   "execution_count": 273,
   "id": "7f06a3e5-bf21-4d4f-a267-7032d11a4a74",
   "metadata": {},
   "outputs": [
    {
     "data": {
      "text/plain": [
       "Value(data=2.6666666666666656)"
      ]
     },
     "execution_count": 273,
     "metadata": {},
     "output_type": "execute_result"
    }
   ],
   "source": [
    "ypred = [n(x) for x in xs]\n",
    "ypred = [v[0] for v in ypred] \n",
    "loss = sum((yout - ygt) ** 2 for ygt, yout in zip(ys, ypred))\n",
    "loss"
   ]
  },
  {
   "cell_type": "code",
   "execution_count": 252,
   "id": "42896f64-76b0-4a75-9fec-3f4e5c18b962",
   "metadata": {},
   "outputs": [
    {
     "data": {
      "text/plain": [
       "Value(data=0.0018671200197866097)"
      ]
     },
     "execution_count": 252,
     "metadata": {},
     "output_type": "execute_result"
    }
   ],
   "source": [
    "ypred = [n(x) for x in xs]\n",
    "ypred = [v[0] for v in ypred] \n",
    "loss = sum((yout - ygt) ** 2 for ygt, yout in zip(ys, ypred))\n",
    "loss"
   ]
  },
  {
   "cell_type": "code",
   "execution_count": 253,
   "id": "9bab3603-b921-4fc9-9eb5-b1611725c589",
   "metadata": {},
   "outputs": [],
   "source": [
    "loss.backward()"
   ]
  },
  {
   "cell_type": "code",
   "execution_count": 254,
   "id": "46192fc3-6443-4a2d-a610-27e97adcc862",
   "metadata": {},
   "outputs": [],
   "source": [
    "for p in n.parameters():\n",
    "    p.data += -0.01 * p.grad #if we change learning rate 0.01 to 0.1 it makes overstep\n",
    "    "
   ]
  },
  {
   "cell_type": "code",
   "execution_count": 255,
   "id": "31feae63-deca-4b48-9717-c55ae5da1920",
   "metadata": {},
   "outputs": [
    {
     "data": {
      "text/plain": [
       "-0.27795619878469385"
      ]
     },
     "execution_count": 255,
     "metadata": {},
     "output_type": "execute_result"
    }
   ],
   "source": [
    "n.layers[0].neurons[0].w[0].data # checking change"
   ]
  },
  {
   "cell_type": "code",
   "execution_count": 256,
   "id": "9e6a4a0b-aaed-4f91-9f17-fb206af53943",
   "metadata": {},
   "outputs": [
    {
     "data": {
      "text/plain": [
       "[Value(data=0.9782068270957673),\n",
       " Value(data=-0.9999999999451116),\n",
       " Value(data=-0.9999999510108907),\n",
       " Value(data=0.9626881033107344)]"
      ]
     },
     "execution_count": 256,
     "metadata": {},
     "output_type": "execute_result"
    }
   ],
   "source": [
    "ypred# last"
   ]
  },
  {
   "cell_type": "code",
   "execution_count": 185,
   "id": "5f488557-2a15-4da6-a2ad-e0cb575c7c85",
   "metadata": {},
   "outputs": [
    {
     "data": {
      "text/plain": [
       "[Value(data=0.1957936694461116),\n",
       " Value(data=0.014287373857549551),\n",
       " Value(data=0.11114487370309131),\n",
       " Value(data=0.048803597212215916)]"
      ]
     },
     "execution_count": 185,
     "metadata": {},
     "output_type": "execute_result"
    }
   ],
   "source": [
    "ypred#first"
   ]
  },
  {
   "cell_type": "code",
   "execution_count": 257,
   "id": "9ecab04b-da9b-47ba-bf28-dcd7510d2d44",
   "metadata": {},
   "outputs": [
    {
     "data": {
      "text/plain": [
       "[Value(data=-0.27795619878469385),\n",
       " Value(data=1.0040736753082693),\n",
       " Value(data=-0.8438667206085378),\n",
       " Value(data=0.1349975054837034),\n",
       " Value(data=3.466935241781141),\n",
       " Value(data=-0.9424345695041799),\n",
       " Value(data=0.6789281416340224),\n",
       " Value(data=-1.1790746942698864),\n",
       " Value(data=2.5421695133592364),\n",
       " Value(data=-6.207245199699723),\n",
       " Value(data=0.8830178886136064),\n",
       " Value(data=1.4991374710768997),\n",
       " Value(data=-6.811435699660987),\n",
       " Value(data=-8.049095458567539),\n",
       " Value(data=3.8184951375061456),\n",
       " Value(data=-2.4609092505918975),\n",
       " Value(data=0.6792487012545988),\n",
       " Value(data=0.4252645460821426),\n",
       " Value(data=-0.9079680749637502),\n",
       " Value(data=0.3786610777902992),\n",
       " Value(data=-0.07383269754462628),\n",
       " Value(data=-0.017005980839768935),\n",
       " Value(data=2.4872087085632595),\n",
       " Value(data=-1.1293793620785135),\n",
       " Value(data=-0.45863466368967754),\n",
       " Value(data=-0.945339001061762),\n",
       " Value(data=0.19770310855036516),\n",
       " Value(data=-2.270102447259976),\n",
       " Value(data=4.473933216115291),\n",
       " Value(data=-1.4842251149329615),\n",
       " Value(data=1.6444660101271447),\n",
       " Value(data=2.6930059746210917),\n",
       " Value(data=4.607509904657144),\n",
       " Value(data=-1.775166108261694),\n",
       " Value(data=-0.6373927706534576),\n",
       " Value(data=3.370250898731666),\n",
       " Value(data=-0.09064578105146334),\n",
       " Value(data=2.470266338843565),\n",
       " Value(data=-7.238130483123677),\n",
       " Value(data=-7.159636845657216),\n",
       " Value(data=0.1463239947392014)]"
      ]
     },
     "execution_count": 257,
     "metadata": {},
     "output_type": "execute_result"
    }
   ],
   "source": [
    "n.parameters()"
   ]
  },
  {
   "cell_type": "code",
   "execution_count": 294,
   "id": "3c3db839-e883-4a50-8377-35dfc0da2766",
   "metadata": {},
   "outputs": [
    {
     "name": "stdout",
     "output_type": "stream",
     "text": [
      "0 0.010382241666083264\n",
      "1 0.010322506319901309\n",
      "2 0.010263363445551486\n",
      "3 0.01020480480920883\n",
      "4 0.010146822324164018\n",
      "5 0.010089408047594343\n",
      "6 0.010032554177418825\n",
      "7 0.009976253049235544\n",
      "8 0.009920497133338015\n",
      "9 0.009865279031809247\n",
      "10 0.009810591475689913\n",
      "11 0.00975642732221936\n",
      "12 0.009702779552147031\n",
      "13 0.009649641267112003\n",
      "14 0.009597005687088576\n",
      "15 0.009544866147896614\n",
      "16 0.009493216098774074\n",
      "17 0.00944204910000982\n",
      "18 0.009391358820635836\n",
      "19 0.009341139036176206\n"
     ]
    }
   ],
   "source": [
    "for k in range(20):\n",
    "    #forward pass\n",
    "    ypred = [n(x) for x in xs]\n",
    "    ypred = [v[0] for v in ypred] \n",
    "    loss = sum((yout - ygt) ** 2 for ygt, yout in zip(ys, ypred))\n",
    "\n",
    "    #backward pass\n",
    "    for p in n.parameters():\n",
    "        p.grad = 0.0 #grad should be zero\n",
    "    loss.backward()\n",
    "\n",
    "    #update\n",
    "    for p in n.parameters():\n",
    "        p.data += -0.05 * p.grad \n",
    "\n",
    "    print(k, loss.data)\n",
    "    "
   ]
  },
  {
   "cell_type": "code",
   "execution_count": 295,
   "id": "6c7415ad-3091-480e-829e-4b7bf803a74e",
   "metadata": {},
   "outputs": [
    {
     "data": {
      "text/plain": [
       "[Value(data=0.9922162734991783),\n",
       " Value(data=-0.9662213336574733),\n",
       " Value(data=-0.9381692540043526),\n",
       " Value(data=0.9342998235338854)]"
      ]
     },
     "execution_count": 295,
     "metadata": {},
     "output_type": "execute_result"
    }
   ],
   "source": [
    "ypred"
   ]
  },
  {
   "cell_type": "code",
   "execution_count": null,
   "id": "7bd47926-b007-4bc5-b0d2-315e38f34294",
   "metadata": {},
   "outputs": [],
   "source": []
  }
 ],
 "metadata": {
  "kernelspec": {
   "display_name": "Python 3 (ipykernel)",
   "language": "python",
   "name": "python3"
  },
  "language_info": {
   "codemirror_mode": {
    "name": "ipython",
    "version": 3
   },
   "file_extension": ".py",
   "mimetype": "text/x-python",
   "name": "python",
   "nbconvert_exporter": "python",
   "pygments_lexer": "ipython3",
   "version": "3.12.1"
  }
 },
 "nbformat": 4,
 "nbformat_minor": 5
}
